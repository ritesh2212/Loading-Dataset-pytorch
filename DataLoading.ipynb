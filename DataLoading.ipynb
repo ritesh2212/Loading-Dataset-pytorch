{
 "cells": [
  {
   "cell_type": "code",
   "execution_count": 17,
   "metadata": {
    "_cell_guid": "b1076dfc-b9ad-4769-8c92-a6c4dae69d19",
    "_uuid": "8f2839f25d086af736a60e9eeb907d3b93b6e0e5"
   },
   "outputs": [],
   "source": [
    "import numpy as np\n",
    "import pandas as pd\n",
    "import glob\n",
    "import os.path as osp"
   ]
  },
  {
   "cell_type": "code",
   "execution_count": 18,
   "metadata": {
    "_uuid": "10089c168702cf48dfaabdf4fdbbd9bd94e87ad2"
   },
   "outputs": [],
   "source": [
    "import torch\n",
    "import torchvision\n",
    "import torchvision.transforms as transforms\n",
    "import torch.utils.data as D"
   ]
  },
  {
   "cell_type": "code",
   "execution_count": 19,
   "metadata": {
    "_uuid": "5e2c1021243a7c979ca874ec5c1a7e8bbfeebd78"
   },
   "outputs": [],
   "source": [
    "path = '/work/test/Downloads/101_ObjectCategories/Aero/airplanes/'"
   ]
  },
  {
   "cell_type": "code",
   "execution_count": 20,
   "metadata": {
    "_uuid": "2290b19e967d999c7bad3557e1e118550f303694"
   },
   "outputs": [],
   "source": [
    "class AirbusDS(D.Dataset):\n",
    "    \"\"\"\n",
    "    A customized data loader.\n",
    "    \"\"\"\n",
    "    def __init__(self, root):\n",
    "        \"\"\" Intialize the dataset\n",
    "        \"\"\"\n",
    "        self.filenames = []\n",
    "        self.root = root\n",
    "        self.transform = transforms.ToTensor()\n",
    "        filenames = glob.glob(osp.join(path, '*.jpg'))\n",
    "        for fn in filenames:\n",
    "            self.filenames.append(fn)\n",
    "        self.len = len(self.filenames)\n",
    "        \n",
    "    # You must override __getitem__ and __len__\n",
    "    def __getitem__(self, index):\n",
    "        \"\"\" Get a sample from the dataset\n",
    "        \"\"\"\n",
    "        image = Image.open(self.filenames[index])\n",
    "        return self.transform(image)\n",
    "\n",
    "    def __len__(self):\n",
    "        \"\"\"\n",
    "        Total number of samples in the dataset\n",
    "        \"\"\"\n",
    "        return self.len"
   ]
  },
  {
   "cell_type": "code",
   "execution_count": 21,
   "metadata": {
    "_uuid": "a4065f82afd939906cebc26ebf9ad862bdf0c124"
   },
   "outputs": [
    {
     "name": "stdout",
     "output_type": "stream",
     "text": [
      "660\n"
     ]
    }
   ],
   "source": [
    "# Simple dataset. Only save path to image and load it and transform to tensor when call __getitem__.\n",
    "airimg = AirbusDS(path)\n",
    "# total images in set\n",
    "print(len(airimg))"
   ]
  },
  {
   "cell_type": "code",
   "execution_count": 22,
   "metadata": {
    "_uuid": "aa5ef932da763294f32c4a5f8dce75b31851828e"
   },
   "outputs": [],
   "source": [
    "# Use the torch dataloader to iterate through the dataset\n",
    "loader = D.DataLoader(airimg, batch_size=24, shuffle=False, num_workers=0)\n"
   ]
  },
  {
   "cell_type": "markdown",
   "metadata": {
    "_uuid": "39f002d1c6b123378e87359775e74d37635f2ad4"
   },
   "source": [
    "### Splitting data into train and validation part\n",
    "Use random split as example. For this aim create 2 Subset"
   ]
  },
  {
   "cell_type": "code",
   "execution_count": 23,
   "metadata": {
    "_uuid": "3a0ba2c9137b43caafadc7e17c18333b818608b3"
   },
   "outputs": [],
   "source": [
    "train_len = int(0.7*airimg.len)\n",
    "valid_len = airimg.len - train_len\n",
    "train, valid = D.dataset.random_split(airimg, lengths=[train_len, valid_len])"
   ]
  },
  {
   "cell_type": "code",
   "execution_count": 24,
   "metadata": {
    "_uuid": "d846c8c56d91bb44d7bec354336ff025c0fbf97a"
   },
   "outputs": [
    {
     "data": {
      "text/plain": [
       "(461, 199)"
      ]
     },
     "execution_count": 24,
     "metadata": {},
     "output_type": "execute_result"
    }
   ],
   "source": [
    "# check lens of subset\n",
    "len(train), len(valid)"
   ]
  },
  {
   "cell_type": "code",
   "execution_count": null,
   "metadata": {},
   "outputs": [],
   "source": []
  }
 ],
 "metadata": {
  "kernelspec": {
   "display_name": "Python 3",
   "language": "python",
   "name": "python3"
  },
  "language_info": {
   "codemirror_mode": {
    "name": "ipython",
    "version": 3
   },
   "file_extension": ".py",
   "mimetype": "text/x-python",
   "name": "python",
   "nbconvert_exporter": "python",
   "pygments_lexer": "ipython3",
   "version": "3.6.6"
  }
 },
 "nbformat": 4,
 "nbformat_minor": 1
}
