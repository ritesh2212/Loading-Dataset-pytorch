{
 "cells": [
  {
   "cell_type": "code",
   "execution_count": 7,
   "metadata": {},
   "outputs": [],
   "source": [
    "import pandas as pd\n",
    "import numpy as np\n",
    "import os"
   ]
  },
  {
   "cell_type": "markdown",
   "metadata": {},
   "source": [
    "# Change File name "
   ]
  },
  {
   "cell_type": "code",
   "execution_count": 38,
   "metadata": {},
   "outputs": [],
   "source": [
    "path = \"/work/test/Desktop/python/pytoch/Aero/\"\n",
    "i = 1\n",
    "for file in os.listdir(path):\n",
    "    os.rename(path + str(file), path+str(i)+\".jpg\")\n",
    "    i = i+1"
   ]
  },
  {
   "cell_type": "markdown",
   "metadata": {},
   "source": [
    "# Make CSV file of images"
   ]
  },
  {
   "cell_type": "code",
   "execution_count": 76,
   "metadata": {},
   "outputs": [],
   "source": [
    "l = []\n",
    "cls = []\n",
    "for file in os.listdir(\"/work/test/Desktop/python/pytoch/Aero/train/\"):\n",
    "    if file.endswith(\".jpg\"):\n",
    "        l.append(file)\n",
    "        a ,b = file.split('.')\n",
    "        a = int(a)\n",
    "        if a > 660:\n",
    "            cls.append('1')\n",
    "        else:\n",
    "            cls.append('0')\n",
    "cls = np.asarray(cls)\n",
    "l = np.asarray(l)\n",
    "final_mat = np.column_stack((l,cls))\n",
    "df = pd.DataFrame(final_mat,columns=['name','class'])\n",
    "df.to_csv(path+'train.csv',index=False)"
   ]
  },
  {
   "cell_type": "code",
   "execution_count": 78,
   "metadata": {},
   "outputs": [],
   "source": [
    "l = []\n",
    "cls = []\n",
    "for file in os.listdir(\"/work/test/Desktop/python/pytoch/Aero/test/\"):\n",
    "    if file.endswith(\".jpg\"):\n",
    "        l.append(file)\n",
    "l = np.asarray(l)\n",
    "df = pd.DataFrame(l,columns=['name'])\n",
    "df.to_csv(path+'test.csv',index=False)"
   ]
  }
 ],
 "metadata": {
  "kernelspec": {
   "display_name": "Python 3",
   "language": "python",
   "name": "python3"
  },
  "language_info": {
   "codemirror_mode": {
    "name": "ipython",
    "version": 3
   },
   "file_extension": ".py",
   "mimetype": "text/x-python",
   "name": "python",
   "nbconvert_exporter": "python",
   "pygments_lexer": "ipython3",
   "version": "3.6.6"
  }
 },
 "nbformat": 4,
 "nbformat_minor": 2
}
